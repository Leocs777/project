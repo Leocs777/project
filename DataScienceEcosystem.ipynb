{
 "cells": [
  {
   "cell_type": "markdown",
   "id": "82a84365-038c-4bf8-89e4-af2366b450f4",
   "metadata": {},
   "source": [
    "# Data Science Tools and Ecosystem"
   ]
  },
  {
   "cell_type": "markdown",
   "id": "402b6c77-b451-4ce3-a04b-0475989aa4c4",
   "metadata": {},
   "source": [
    "## In this notebook, Data Science Tools and Ecosystem are summarized."
   ]
  },
  {
   "cell_type": "markdown",
   "id": "6b7fdcd5-421b-4d13-8438-e953927f12cb",
   "metadata": {},
   "source": [
    "### Some of the popular languages that Data Scientists use are: \n",
    "1. Python\n",
    "2. R\n",
    "3. SQL"
   ]
  },
  {
   "cell_type": "markdown",
   "id": "a57894c5-865d-4639-b5c0-97fb4cd3aa50",
   "metadata": {},
   "source": [
    "### Some of the commonly used libraries used by Data Scientists include:\n",
    "1. Numpy\n",
    "2. SciPy\n",
    "3. Tensor Flow"
   ]
  },
  {
   "cell_type": "markdown",
   "id": "7bdcf07b-9934-4d7b-b29d-64e832ec1600",
   "metadata": {},
   "source": [
    "|Data Science Tools|\n",
    "|------|\n",
    "|Apache Spark|\n",
    "|TensorFlow|\n",
    "|Scikit-learn|"
   ]
  },
  {
   "cell_type": "markdown",
   "id": "abdedb96-b9f3-46b8-8f25-b62ddf1e1486",
   "metadata": {},
   "source": [
    "### Below are a few examples of evaluating arithmetic expressions in Python."
   ]
  },
  {
   "cell_type": "code",
   "execution_count": 69,
   "id": "5c26e2e5-cfff-4451-89f8-4c45432e80f1",
   "metadata": {},
   "outputs": [
    {
     "data": {
      "text/plain": [
       "17"
      ]
     },
     "execution_count": 69,
     "metadata": {},
     "output_type": "execute_result"
    }
   ],
   "source": [
    "# This a simple arithmetic expression to mutiply then add integers.\n",
    "(3*4)+5"
   ]
  },
  {
   "cell_type": "code",
   "execution_count": 71,
   "id": "b05b1de6-c6d7-48ff-85af-e1611f96c0b0",
   "metadata": {},
   "outputs": [
    {
     "name": "stdout",
     "output_type": "stream",
     "text": [
      "Converting 200 minutes to hours:\n",
      "-----------------------------------\n",
      "Standard format: 3 hours and 20 minutes\n",
      "Decimal format: 3.33 hours\n"
     ]
    }
   ],
   "source": [
    "# Convert 200 minutes to hours\n",
    "minutes = 200\n",
    "\n",
    "# Calculate hours and remaining minutes\n",
    "hours = minutes // 60  # Integer division for whole hours\n",
    "remaining_minutes = minutes % 60  # Modulo operator for remaining minutes\n",
    "\n",
    "# Calculate decimal hours (alternative representation)\n",
    "decimal_hours = minutes / 60\n",
    "\n",
    "# Display results\n",
    "print(f\"Converting {minutes} minutes to hours:\")\n",
    "print(\"-\" * 35)\n",
    "print(f\"Standard format: {hours} hours and {remaining_minutes} minutes\")\n",
    "print(f\"Decimal format: {decimal_hours:.2f} hours\")\n"
   ]
  },
  {
   "cell_type": "markdown",
   "id": "0a06fdbd-7472-49ea-b726-23992e18c433",
   "metadata": {},
   "source": [
    "## **Objectives**\n",
    "- Introduce popular tools used for Data Science\n",
    "- Introduce popular platforms used for Data Science\n",
    "- Introduce popular languages used for Data Science"
   ]
  },
  {
   "cell_type": "markdown",
   "id": "28df83c4-678d-456d-87a9-9bd712c0c3bf",
   "metadata": {},
   "source": [
    "## Author \n",
    "Leo Chen "
   ]
  },
  {
   "cell_type": "code",
   "execution_count": null,
   "id": "cd0259af-d00b-49a5-9828-a772ee061387",
   "metadata": {},
   "outputs": [],
   "source": []
  },
  {
   "cell_type": "code",
   "execution_count": null,
   "id": "91774ec6-fbb4-47d2-97a5-998ab93682dc",
   "metadata": {},
   "outputs": [],
   "source": []
  }
 ],
 "metadata": {
  "kernelspec": {
   "display_name": "Python [conda env:base] *",
   "language": "python",
   "name": "conda-base-py"
  },
  "language_info": {
   "codemirror_mode": {
    "name": "ipython",
    "version": 3
   },
   "file_extension": ".py",
   "mimetype": "text/x-python",
   "name": "python",
   "nbconvert_exporter": "python",
   "pygments_lexer": "ipython3",
   "version": "3.12.7"
  }
 },
 "nbformat": 4,
 "nbformat_minor": 5
}
